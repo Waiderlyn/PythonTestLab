{
 "cells": [
  {
   "cell_type": "markdown",
   "metadata": {},
   "source": [
    "1 - Te van a facilitar un texto en castellano. Debes crear un `OBJETO` que tenga:\n",
    "-  Un método que reciba el texto y lo devuelva en código morse, además del tiempo que ha tardado en ejecutar la operacion.\n",
    "-  Otro método debe devolver el número de palabras que contiene el texto. \n",
    "-  Otro método debe devolver cada uno de las palabras y su número de repeticiones"
   ]
  },
  {
   "cell_type": "markdown",
   "metadata": {},
   "source": [
    "texto = \"Las primeras ofertas en firme por Kundananji llegaron a las oficinas del club a principios de enero. Tal y como informamos en MARCA a principios de año, el Madrid CFF rechazó una propuesta de 400.000 euros entendiendo que la delantera era una pieza clave en el engranaje de un equipo sumido en la lucha por las plazas de Champions. 'No ha sido una negociación fácil ya que era muy complicado para el Madrid CFF desprenderse de una de las mejores jugadoras de la Liga F en un tramo tan importante de la temporada', apunta Óscar González, co-fundador de TMJ y agente de la futbolista.\""
   ]
  },
  {
   "cell_type": "code",
   "execution_count": 1,
   "metadata": {},
   "outputs": [],
   "source": [
    "class transforma_texto:\n",
    "    def __init__(self, texto):\n",
    "        self.texto = texto\n",
    "    def a_morse(self):\n",
    "        import time\n",
    "        inicio = time.time()\n",
    "        nuevo_texto= ''\n",
    "        codigo_morse = {\n",
    "                        'A': '.-', 'B': '-...', 'C': '-.-.', 'D': '-..', 'E': '.', 'F': '..-.', 'G': '--.', 'H': '....',\n",
    "                        'I': '..', 'J': '.---', 'K': '-.-', 'L': '.-..', 'M': '--', 'N': '-.', 'Ñ': '--.--.', 'O': '---', 'P': '.--.',\n",
    "                        'Q': '--.-', 'R': '.-.', 'S': '...', 'T': '-', 'U': '..-', 'V': '...-', 'W': '.--', 'X': '-..-',\n",
    "                        'Y': '-.--', 'Z': '--..',\n",
    "\n",
    "                        '0': '-----', '1': '.----', '2': '..---', '3': '...--', '4': '....-', '5': '.....',\n",
    "                        '6': '-....', '7': '--...', '8': '---..', '9': '----.',\n",
    "\n",
    "                        '.': '.-.-.-', ',': '--..--', '?': '..--..', \"'\": '.----.', '!': '-.-.--', '/': '-..-.',\n",
    "                        '(': '-.--.', ')': '-.--.-', '&': '.-...', ':': '---...', ';': '-.-.-.', '=': '-...-',\n",
    "                        '+': '.-.-.', '-': '-....-', '_': '..--.-', '\"': '.-..-.', '$': '...-..-', '@': '.--.-.',\n",
    "\n",
    "                        ' ': ' ', 'Á':'.-' , 'É':'.', 'Í': '..', 'Ó': '---', 'Ú': '..-'                                 \n",
    "                        }\n",
    "        for e in self.texto.upper():\n",
    "            for k,v in codigo_morse.items():\n",
    "                if e == k:\n",
    "                    morse= v\n",
    "                    nuevo_texto += morse\n",
    "        fin = time.time()\n",
    "        return nuevo_texto, fin-inicio\n",
    "    \n",
    "    def numero_palabras(self):\n",
    "        lista_palabras = self.texto.split()\n",
    "        return len(lista_palabras)\n",
    "    \n",
    "    def cuenta_palabras(self):\n",
    "        signos = ['.', ',', '?', \"'\", '!', '/',\n",
    "                        '(', ')', '&', ':', ';', '=',\n",
    "                        '+', '-', '_', '\"', '$', '@']\n",
    "        dicc = {}\n",
    "        lista_palabras = self.texto.split()\n",
    "        for i in range(len(lista_palabras)):\n",
    "            palabra = lista_palabras[i]\n",
    "            for letra in palabra:\n",
    "                if letra in signos:\n",
    "                    palabra = palabra.replace(letra, '')\n",
    "            lista_palabras[i] = palabra\n",
    "        for palabra in set(lista_palabras):\n",
    "            lista_palabras.count(palabra)\n",
    "            dicc[palabra]=lista_palabras.count(palabra)\n",
    "        return dicc\n"
   ]
  },
  {
   "cell_type": "code",
   "execution_count": 2,
   "metadata": {},
   "outputs": [],
   "source": [
    "texto = transforma_texto(\"Las primeras ofertas en firme por Kundananji llegaron a las oficinas del club a principios de enero. Tal y como informamos en MARCA a principios de año, el Madrid CFF rechazó una propuesta de 400.000 euros entendiendo que la delantera era una pieza clave en el engranaje de un equipo sumido en la lucha por las plazas de Champions. 'No ha sido una negociación fácil ya que era muy complicado para el Madrid CFF desprenderse de una de las mejores jugadoras de la Liga F en un tramo tan importante de la temporada', apunta Óscar González, co-fundador de TMJ y agente de la futbolista.\")"
   ]
  },
  {
   "cell_type": "code",
   "execution_count": 3,
   "metadata": {},
   "outputs": [
    {
     "data": {
      "text/plain": [
       "{'400000': 1,\n",
       " 'clave': 1,\n",
       " 'importante': 1,\n",
       " 'Madrid': 2,\n",
       " 'euros': 1,\n",
       " 'en': 5,\n",
       " 'por': 2,\n",
       " 'firme': 1,\n",
       " 'Champions': 1,\n",
       " 'fácil': 1,\n",
       " 'muy': 1,\n",
       " 'delantera': 1,\n",
       " 'del': 1,\n",
       " 'apunta': 1,\n",
       " 'ha': 1,\n",
       " 'club': 1,\n",
       " 'cofundador': 1,\n",
       " 'futbolista': 1,\n",
       " 'F': 1,\n",
       " 'entendiendo': 1,\n",
       " 'a': 3,\n",
       " 'un': 2,\n",
       " 'MARCA': 1,\n",
       " 'Tal': 1,\n",
       " 'las': 3,\n",
       " 'equipo': 1,\n",
       " 'ya': 1,\n",
       " 'era': 2,\n",
       " 'pieza': 1,\n",
       " 'agente': 1,\n",
       " 'como': 1,\n",
       " 'Kundananji': 1,\n",
       " 'que': 2,\n",
       " 'de': 11,\n",
       " 'primeras': 1,\n",
       " 'González': 1,\n",
       " 'engranaje': 1,\n",
       " 'Liga': 1,\n",
       " 'tan': 1,\n",
       " 'principios': 2,\n",
       " 'lucha': 1,\n",
       " 'el': 3,\n",
       " 'para': 1,\n",
       " 'propuesta': 1,\n",
       " 'Las': 1,\n",
       " 'llegaron': 1,\n",
       " 'TMJ': 1,\n",
       " 'una': 4,\n",
       " 'la': 5,\n",
       " 'desprenderse': 1,\n",
       " 'enero': 1,\n",
       " 'sumido': 1,\n",
       " 'negociación': 1,\n",
       " 'informamos': 1,\n",
       " 'No': 1,\n",
       " 'complicado': 1,\n",
       " 'año': 1,\n",
       " 'ofertas': 1,\n",
       " 'jugadoras': 1,\n",
       " 'temporada': 1,\n",
       " 'y': 2,\n",
       " 'mejores': 1,\n",
       " 'CFF': 2,\n",
       " 'oficinas': 1,\n",
       " 'Óscar': 1,\n",
       " 'tramo': 1,\n",
       " 'plazas': 1,\n",
       " 'rechazó': 1,\n",
       " 'sido': 1}"
      ]
     },
     "execution_count": 3,
     "metadata": {},
     "output_type": "execute_result"
    }
   ],
   "source": [
    "texto.cuenta_palabras()"
   ]
  },
  {
   "cell_type": "code",
   "execution_count": 4,
   "metadata": {},
   "outputs": [
    {
     "data": {
      "text/plain": [
       "104"
      ]
     },
     "execution_count": 4,
     "metadata": {},
     "output_type": "execute_result"
    }
   ],
   "source": [
    "texto.numero_palabras()"
   ]
  },
  {
   "cell_type": "code",
   "execution_count": 5,
   "metadata": {},
   "outputs": [
    {
     "data": {
      "text/plain": [
       "('.-...-... .--..-...--..-..-... ---..-...-.-.-... .-. ..-....-.--. .--.---.-. -.-..--.-...--..--..---.. .-...-...--..-.-.----. .- .-...-... ---..-...-.-...-..-... -....-.. -.-..-....--... .- .--..-...-.-.-....--...---... -... .-...-.---.-.-.- -.-.-.. -.-- -.-.-------- ..-...-.---.-.--.------... .-. --.-.-.-.-..- .- .--..-...-.-.-....--...---... -... .---.--.-----..-- ..-.. --.--...-...-.. -.-...-...-. .-..-.-......---..--- ..--..- .--..-.---.--...-....-.- -... ....-----------.-.-.---------------- ...-.-.---... .-.-.-.-.....-.-..--- --.-..-. .-...- -....-...--.-..-..- ..-..- ..--..- .--....--...- -.-..-...-...-. .-. ..-.. .-.--..-..--..-.---. -... ..--. .--.-..-...--.--- .....---..-..--- .-. .-...- .-....--.-......- .--.---.-. .-...-... .--..-...---...-... -... -.-......---.--...----.....-.-.- .----.-.--- .....- .....-..--- ..--..- -..--.----.-....--.-...----. ..-..--.-....-.. -.--.- --.-..-. ..-..- --..--.-- -.-.-----.--..-....-.-..--..--- .--..-.-..- ..-.. --.--...-...-.. -.-...-...-. -.......--..-..-.-....-..... -... ..--..- -... .-...-... --..------.-..... .---..---..--..---.-..-... -... .-...- .-....--..- ..-. .-. ..--. -.-..------ -.--. ..--.--.---.-.-.--.-. -... .-...- -.--.--.---.-..--...-.----.--..-- .-.--...--.-.- ---...-.-..-.-. --.----.--...-.-...--..--..-- -.-.----....-..-...--.-...--..---.-. -... ---.--- -.-- .---..-.-. -... .-...- ..-...---...---.-.......-.-.-.-.-',\n",
       " 0.014990568161010742)"
      ]
     },
     "execution_count": 5,
     "metadata": {},
     "output_type": "execute_result"
    }
   ],
   "source": [
    "texto.a_morse()"
   ]
  },
  {
   "cell_type": "markdown",
   "metadata": {},
   "source": [
    "2 - Crea una función que evalúe si un/a atleta ha superado correctamente una\n",
    "  carrera de obstáculos.\n",
    "  - La función recibirá dos parámetros:\n",
    "       - Una String que represente la pista que sólo puede contener las palabras\n",
    "         \"run\" o \"jump\"\n",
    "       - Un String que represente la pista y sólo puede contener \"_\" (suelo)\n",
    "         o \"|\" (valla)\n",
    "       - Habrá que comprobar que la pista no sea más larga que la carrera. El caso contrario, sería admisible. \n",
    "  - La función imprimirá cómo ha finalizado la carrera:\n",
    "       - Si el/a atleta hace \"run\" en \"_\" (suelo) y \"jump\" en \"|\" (valla)\n",
    "         será correcto y no variará el símbolo de esa parte de la pista.\n",
    "       - Si hace \"jump\" en \"_\" (suelo), se variará la pista por \"x\".\n",
    "       - Si hace \"run\" en \"|\" (valla), se variará la pista por \"/\".\n",
    "  - La función retornará un Booleano que indique si ha superado la carrera.\n",
    "  - Además de como ha quedado la pista después de la carrera."
   ]
  },
  {
   "cell_type": "code",
   "execution_count": 6,
   "metadata": {},
   "outputs": [],
   "source": [
    "carrera1 = \"RunJumpRunRunRunJumpRunRunRunJumpJump\"\n",
    "pista1 = \"_|___|___||\"\n",
    "\n",
    "carrera2 = \"RunJumpRunRunRunJumpRunRunRunJumpJumpRunRun\"\n",
    "pista2 = \"__|__|___|_\"\n",
    "\n",
    "carrera3 = \"RunJumpRunRunRunJumpRunRunRunJumpJumpRunRunRunRun\"\n",
    "pista3 = \"__|__|___|_|__|__|_|___|_\""
   ]
  },
  {
   "cell_type": "code",
   "execution_count": 7,
   "metadata": {},
   "outputs": [],
   "source": [
    "def supera_carrera(carrera:str, pista:str):\n",
    "    largo_carrera = carrera.count('R')+carrera.count('J')\n",
    "    nueva_pista = ''\n",
    "    if len(pista) > largo_carrera:\n",
    "        return 'El largo de la pista es mayor que el de la carrera, no se puede continuar' \n",
    "    else:\n",
    "        nueva_carrera = []\n",
    "        for e in carrera:\n",
    "            if e in ['R', 'J']:\n",
    "                nueva_carrera.append(e)\n",
    "        for letra, e in zip(nueva_carrera, pista):\n",
    "            if letra == 'R' and e == \"_\":\n",
    "                nueva_pista += '_'\n",
    "            elif letra == 'J' and e == '|':\n",
    "                nueva_pista += '|'\n",
    "            else:\n",
    "                if letra == 'R':\n",
    "                    nueva_pista += \"x\"\n",
    "                if letra == 'J':\n",
    "                    nueva_pista += \"/\"\n",
    "        return nueva_pista, nueva_pista == pista"
   ]
  },
  {
   "cell_type": "code",
   "execution_count": 7,
   "metadata": {},
   "outputs": [
    {
     "data": {
      "text/plain": [
       "'El largo de la pista es mayor que el de la carrera, no se puede continuar'"
      ]
     },
     "execution_count": 7,
     "metadata": {},
     "output_type": "execute_result"
    }
   ],
   "source": [
    "supera_carrera(carrera3, pista3)"
   ]
  },
  {
   "cell_type": "code",
   "execution_count": 8,
   "metadata": {},
   "outputs": [
    {
     "data": {
      "text/plain": [
       "('_/x__|___|/', False)"
      ]
     },
     "execution_count": 8,
     "metadata": {},
     "output_type": "execute_result"
    }
   ],
   "source": [
    "supera_carrera(carrera2, pista2)"
   ]
  },
  {
   "cell_type": "code",
   "execution_count": 9,
   "metadata": {},
   "outputs": [
    {
     "data": {
      "text/plain": [
       "('_|___|___||', True)"
      ]
     },
     "execution_count": 9,
     "metadata": {},
     "output_type": "execute_result"
    }
   ],
   "source": [
    "supera_carrera(carrera1, pista1)"
   ]
  },
  {
   "cell_type": "markdown",
   "metadata": {},
   "source": [
    "3 - FizzBuzz es una prueba más vieja que el fondo del mar para comprobar nuestra lógica de programación. \n",
    "\n",
    "Debemos crear una 'funcion' que reciba un número y devuelva una lista de esos números transformada con los siguientes criterios:\n",
    "  - \"Fizz\" si el número es divisible por 3.\n",
    "  - \"Buzz\" si el número es divisible por 5.\n",
    "  - \"FizzBuzz\" si el número es divisible por 3 y 5.\n",
    "  - El número si no es divisible por 3 o 5.\n",
    "  - Los números serán siempre enteros positivos.\n",
    "  \n",
    "  Ejemplo:\n",
    "  - fizzBuzz(3) => \"Fizz\"\n",
    "  - fizzBuzz(5) => \"Buzz\"\n",
    "  - fizzBuzz(15) => \"FizzBuzz\"\n",
    "  - fizzBuzz(4) => 4\n",
    "  - fizzBuzz(-1) => \"Error\"\n",
    "\n",
    "Aplica tu función a la lista de números del 1 al 100."
   ]
  },
  {
   "cell_type": "code",
   "execution_count": 10,
   "metadata": {},
   "outputs": [],
   "source": [
    "def num_fizzBuzz(num:int):\n",
    "    if num %3 == 0 and num %5 == 0:\n",
    "        return 'FizzBuzz'\n",
    "    if num %3 == 0:\n",
    "        return 'Fizz'\n",
    "    if num %5 == 0:\n",
    "        return 'Buzz'\n",
    "    else:\n",
    "        return num\n",
    "    "
   ]
  },
  {
   "cell_type": "code",
   "execution_count": 11,
   "metadata": {},
   "outputs": [],
   "source": [
    "lista_numeros = list(range(1,101))"
   ]
  },
  {
   "cell_type": "code",
   "execution_count": 12,
   "metadata": {},
   "outputs": [],
   "source": [
    "for i,num in enumerate(lista_numeros):\n",
    "  lista_numeros[i]= num_fizzBuzz(num)"
   ]
  },
  {
   "cell_type": "code",
   "execution_count": 13,
   "metadata": {},
   "outputs": [
    {
     "data": {
      "text/plain": [
       "[1,\n",
       " 2,\n",
       " 'Fizz',\n",
       " 4,\n",
       " 'Buzz',\n",
       " 'Fizz',\n",
       " 7,\n",
       " 8,\n",
       " 'Fizz',\n",
       " 'Buzz',\n",
       " 11,\n",
       " 'Fizz',\n",
       " 13,\n",
       " 14,\n",
       " 'FizzBuzz',\n",
       " 16,\n",
       " 17,\n",
       " 'Fizz',\n",
       " 19,\n",
       " 'Buzz',\n",
       " 'Fizz',\n",
       " 22,\n",
       " 23,\n",
       " 'Fizz',\n",
       " 'Buzz',\n",
       " 26,\n",
       " 'Fizz',\n",
       " 28,\n",
       " 29,\n",
       " 'FizzBuzz',\n",
       " 31,\n",
       " 32,\n",
       " 'Fizz',\n",
       " 34,\n",
       " 'Buzz',\n",
       " 'Fizz',\n",
       " 37,\n",
       " 38,\n",
       " 'Fizz',\n",
       " 'Buzz',\n",
       " 41,\n",
       " 'Fizz',\n",
       " 43,\n",
       " 44,\n",
       " 'FizzBuzz',\n",
       " 46,\n",
       " 47,\n",
       " 'Fizz',\n",
       " 49,\n",
       " 'Buzz',\n",
       " 'Fizz',\n",
       " 52,\n",
       " 53,\n",
       " 'Fizz',\n",
       " 'Buzz',\n",
       " 56,\n",
       " 'Fizz',\n",
       " 58,\n",
       " 59,\n",
       " 'FizzBuzz',\n",
       " 61,\n",
       " 62,\n",
       " 'Fizz',\n",
       " 64,\n",
       " 'Buzz',\n",
       " 'Fizz',\n",
       " 67,\n",
       " 68,\n",
       " 'Fizz',\n",
       " 'Buzz',\n",
       " 71,\n",
       " 'Fizz',\n",
       " 73,\n",
       " 74,\n",
       " 'FizzBuzz',\n",
       " 76,\n",
       " 77,\n",
       " 'Fizz',\n",
       " 79,\n",
       " 'Buzz',\n",
       " 'Fizz',\n",
       " 82,\n",
       " 83,\n",
       " 'Fizz',\n",
       " 'Buzz',\n",
       " 86,\n",
       " 'Fizz',\n",
       " 88,\n",
       " 89,\n",
       " 'FizzBuzz',\n",
       " 91,\n",
       " 92,\n",
       " 'Fizz',\n",
       " 94,\n",
       " 'Buzz',\n",
       " 'Fizz',\n",
       " 97,\n",
       " 98,\n",
       " 'Fizz',\n",
       " 'Buzz']"
      ]
     },
     "execution_count": 13,
     "metadata": {},
     "output_type": "execute_result"
    }
   ],
   "source": [
    "lista_numeros"
   ]
  },
  {
   "cell_type": "markdown",
   "metadata": {},
   "source": [
    "4 - Crea una función que reciba un texto y muestre cada palabra en una línea, formando un marco rectangular de asteriscos.\n",
    "#Ejemplo:\n",
    "# Esta prueba mola un mogollón \n",
    "# tendría que convertirse en:\n",
    "\n",
    "\n",
    "# ************\n",
    "# * Esta          *\n",
    "# * prueba     *\n",
    "# * mola         *\n",
    "# * mogollón *\n",
    "# ************"
   ]
  },
  {
   "cell_type": "code",
   "execution_count": 14,
   "metadata": {},
   "outputs": [],
   "source": [
    "def rectangulo_asteriscos(palabras:str):\n",
    "    lista_palabras= palabras.split()\n",
    "    largos= []\n",
    "    for e in lista_palabras:\n",
    "        largo= len(e)\n",
    "        largos.append(largo)\n",
    "    mas_largo= max(largos)\n",
    "    print('*'*(mas_largo+4))\n",
    "\n",
    "    for e, num in zip(lista_palabras, largos):\n",
    "        cantidad_espacios = mas_largo-num\n",
    "        espacios = ' '*cantidad_espacios\n",
    "        palabra = '* '+e+espacios+' *'\n",
    "        print(palabra)\n",
    "    print('*'*(mas_largo+4))\n"
   ]
  },
  {
   "cell_type": "code",
   "execution_count": 15,
   "metadata": {},
   "outputs": [
    {
     "name": "stdout",
     "output_type": "stream",
     "text": [
      "************\n",
      "* Esta     *\n",
      "* prueba   *\n",
      "* mola     *\n",
      "* un       *\n",
      "* mogollón *\n",
      "************\n"
     ]
    }
   ],
   "source": [
    "rectangulo_asteriscos('Esta prueba mola un mogollón')"
   ]
  },
  {
   "cell_type": "markdown",
   "metadata": {},
   "source": [
    "5- \"Desarrolla un script en Python que nos permita calcular la factorial de un número dado. Además, ¿cómo asegurarías que el script maneje correctamente casos especiales como la factorial de 0 y números negativos?\"\n",
    "Respuesta: \n"
   ]
  },
  {
   "cell_type": "code",
   "execution_count": 18,
   "metadata": {},
   "outputs": [
    {
     "name": "stdout",
     "output_type": "stream",
     "text": [
      "Su factorial es 120\n"
     ]
    }
   ],
   "source": [
    "# ingreso como ejemplo el numero 5\n",
    "def factorial(num):\n",
    "    if num in [0, 1]:\n",
    "        return 1\n",
    "    else:\n",
    "        resultado= 1\n",
    "        for i in range(1, num+1):\n",
    "            resultado *=i\n",
    "        return resultado\n",
    "\n",
    "num= int(float(input('introduce un numero entero positivo: ')))\n",
    "while num < 0:\n",
    "    num= int(float(input('introduce un numero entero positivo: ')))\n",
    "if num >=0:\n",
    "    print(f'Su factorial es {factorial(num)}')"
   ]
  }
 ],
 "metadata": {
  "kernelspec": {
   "display_name": "Python 3",
   "language": "python",
   "name": "python3"
  },
  "language_info": {
   "codemirror_mode": {
    "name": "ipython",
    "version": 3
   },
   "file_extension": ".py",
   "mimetype": "text/x-python",
   "name": "python",
   "nbconvert_exporter": "python",
   "pygments_lexer": "ipython3",
   "version": "3.10.11"
  }
 },
 "nbformat": 4,
 "nbformat_minor": 2
}
